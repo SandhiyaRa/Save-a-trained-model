{
 "cells": [
  {
   "cell_type": "markdown",
   "id": "a84528f7",
   "metadata": {},
   "source": [
    "# Save a trained model"
   ]
  },
  {
   "cell_type": "code",
   "execution_count": null,
   "id": "776d37da",
   "metadata": {},
   "outputs": [],
   "source": [
    "This can be done in two ways:\n",
    "\n",
    "    1.using pickle\n",
    "    2.using joblib[from sklearn]\n",
    "    \n",
    "1. Using Pickle:\n",
    "    \n",
    "    import pickle\n",
    "    \n",
    "    with open('model_pickle','wb') as f:\n",
    "        pickle.dump(model,f)\n",
    "    \n",
    "    with open('model_pickle','rb') as f:\n",
    "        mp= pickle.load(f)\n",
    "        \n",
    "    mp.predict([5000])\n",
    "    \n",
    "    \n",
    "2. Using joblib:\n",
    "    \n",
    "    from sklearn.externals import joblib\n",
    "    \n",
    "    joblib.dump(model,'model_joblib')\n",
    "    \n",
    "    mj = joblib.load('model_joblib')\n",
    "    \n",
    "    mj.predict([5000])\n",
    "    "
   ]
  }
 ],
 "metadata": {
  "kernelspec": {
   "display_name": "Python 3",
   "language": "python",
   "name": "python3"
  },
  "language_info": {
   "codemirror_mode": {
    "name": "ipython",
    "version": 3
   },
   "file_extension": ".py",
   "mimetype": "text/x-python",
   "name": "python",
   "nbconvert_exporter": "python",
   "pygments_lexer": "ipython3",
   "version": "3.8.8"
  }
 },
 "nbformat": 4,
 "nbformat_minor": 5
}
